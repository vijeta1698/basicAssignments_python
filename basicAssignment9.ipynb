{
 "cells": [
  {
   "cell_type": "code",
   "execution_count": 1,
   "metadata": {},
   "outputs": [],
   "source": [
    "#1.To what does a relative path refer?"
   ]
  },
  {
   "cell_type": "code",
   "execution_count": null,
   "metadata": {},
   "outputs": [],
   "source": [
    "'''\n",
    "A relative path refers to a location that is relative to a current directory. \n",
    "Relative paths make use of two special symbols, a dot (.) and a double-dot (..), which translate into the \n",
    "current directory and the parent directory. Double dots are used for moving up in the hierarchy. \n",
    "A single dot represents the current directory itself.\n",
    " \n",
    "if we navigate to C:\\Users\\github in our windows system.After navigating to this directory a relative path \n",
    "will look like  C:\\Users\\github untill we navigate to a new directory.\n",
    "now if we want to go to the Panda directory we can simply use:\n",
    "  ..\\Panda in the Address box\n",
    "'''"
   ]
  },
  {
   "cell_type": "code",
   "execution_count": null,
   "metadata": {},
   "outputs": [],
   "source": [
    "#2. What does an absolute path start with your operating system?"
   ]
  },
  {
   "cell_type": "code",
   "execution_count": null,
   "metadata": {},
   "outputs": [],
   "source": [
    "'''\n",
    "an absolute path in windows system starts with\n",
    "C:\\Users\\github\\mingw64\n",
    "\n",
    "'''"
   ]
  },
  {
   "cell_type": "code",
   "execution_count": 2,
   "metadata": {},
   "outputs": [],
   "source": [
    "#3. What do the functions os.getcwd() and os.chdir() do?"
   ]
  },
  {
   "cell_type": "code",
   "execution_count": null,
   "metadata": {},
   "outputs": [],
   "source": [
    "'''os.getcwd() returns current working directory of a process.\n",
    "os.chdir() changes the current working directory to the given path.\n",
    "It returns None in all the cases.\n",
    "'''"
   ]
  },
  {
   "cell_type": "code",
   "execution_count": 1,
   "metadata": {},
   "outputs": [
    {
     "data": {
      "text/plain": [
       "'C:\\\\Users\\\\Panda\\\\basicAssignments'"
      ]
     },
     "execution_count": 1,
     "metadata": {},
     "output_type": "execute_result"
    }
   ],
   "source": [
    "import os\n",
    "os.getcwd()"
   ]
  },
  {
   "cell_type": "code",
   "execution_count": 2,
   "metadata": {},
   "outputs": [],
   "source": [
    "os.chdir('C:\\\\Users\\\\Panda\\\\numpy')"
   ]
  },
  {
   "cell_type": "code",
   "execution_count": null,
   "metadata": {},
   "outputs": [],
   "source": [
    "#4. What are the . and .. folders?\n",
    "'''\n",
    "\n",
    "'''"
   ]
  },
  {
   "cell_type": "code",
   "execution_count": null,
   "metadata": {},
   "outputs": [],
   "source": [
    "#5. In C:\\bacon\\eggs\\spam.txt, which part is the dir name, and which part is the base name?\n",
    "'''\n",
    "the basename is spam.txt and the dir name is C:\\bacon\n",
    "'''"
   ]
  },
  {
   "cell_type": "code",
   "execution_count": null,
   "metadata": {},
   "outputs": [],
   "source": [
    "#6. What are the three “mode” arguments that can be passed to the open() function?\n",
    "'''\n",
    "3 'mode' arguments that can be passed to open() function are :\n",
    "    \"r \", for reading.\n",
    "    \" w \", for writing.\n",
    "    \" r+\" for both reading and writing\n",
    "\n",
    "'''"
   ]
  },
  {
   "cell_type": "code",
   "execution_count": null,
   "metadata": {},
   "outputs": [],
   "source": [
    "#7. What happens if an existing file is opened in write mode?\n",
    "'''\n",
    "if a file is opened in write mode then the pointer is placed at the beginning of the file and this will overwrite any existing\n",
    "file with the same name. \n",
    "It will create a new file if one with the same name doesn't exist\n",
    "'''"
   ]
  },
  {
   "cell_type": "code",
   "execution_count": null,
   "metadata": {},
   "outputs": [],
   "source": [
    "#8. How do you tell the difference between read() and readlines()?\n",
    "'''\n",
    "read() function reads an entire file, as though it were a string. This means that it treats each character differently.\n",
    "\n",
    "The readline() function, on the other hand, only reads a single line of the file. This means that if the file numpy.txt were three lines long, the readline() function would only parse \n",
    "(or iterate/operate) on the first line of the file.\n",
    "\n",
    "'''"
   ]
  },
  {
   "cell_type": "code",
   "execution_count": null,
   "metadata": {},
   "outputs": [],
   "source": [
    "#9.What data structure does a shelf value resemble?\n",
    "'''\n",
    "A shelf value resembles a dictionary value, it has keys and values, \n",
    "along with keys() and values() methods that work similarly to the dictionary methods of the same names.\n",
    "'''"
   ]
  }
 ],
 "metadata": {
  "kernelspec": {
   "display_name": "Python 3",
   "language": "python",
   "name": "python3"
  },
  "language_info": {
   "codemirror_mode": {
    "name": "ipython",
    "version": 3
   },
   "file_extension": ".py",
   "mimetype": "text/x-python",
   "name": "python",
   "nbconvert_exporter": "python",
   "pygments_lexer": "ipython3",
   "version": "3.7.4"
  }
 },
 "nbformat": 4,
 "nbformat_minor": 2
}
