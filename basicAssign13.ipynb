{
 "cells": [
  {
   "cell_type": "code",
   "execution_count": null,
   "metadata": {},
   "outputs": [],
   "source": [
    "#1. What advantages do Excel spreadsheets have over CSV spreadsheets?\n",
    "'''\n",
    "reading larger data set is much easier for the end user to read,comprehend,\n",
    "and understand as compared to csv\n",
    "excel spreadsheets provides the user option for external linking of data from\n",
    "other sources and also the user can do custom add-ins while no such feature is available in csv\n",
    "'''\n"
   ]
  },
  {
   "cell_type": "code",
   "execution_count": null,
   "metadata": {},
   "outputs": [],
   "source": [
    "#2.What do you pass to csv.reader() and csv.writer() to create reader and writer objects?\n",
    "'''\n",
    "reader and writer objects can be created as:\n",
    "    csv_reader = csv.reader(file) where csv.reader() takes a 'file' parameter which is nothing but a valid file name\n",
    "    csv_writer = csv.writer(csvfile)\n",
    "'''"
   ]
  },
  {
   "cell_type": "code",
   "execution_count": null,
   "metadata": {},
   "outputs": [],
   "source": [
    "#3. What modes do File objects for reader and writer objects need to be opened in?\n",
    "'''\n",
    "the reader object must be opened in 'r' that is reading mode\n",
    "writer object must be opned in 'w' that is write mode\n",
    "\n",
    "'''"
   ]
  },
  {
   "cell_type": "code",
   "execution_count": null,
   "metadata": {},
   "outputs": [],
   "source": [
    "#4. What method takes a list argument and writes it to a CSV file?\n",
    "'''\n",
    "the csv.writerows() method takes a list argument and writes to the csv file\n",
    "it takes the list which we need to write to the csv file as an argument.\n",
    "fore ex:\n",
    "  rows = [ ['Nikhil', 'COE', '2', '9.0'], \n",
    "         ['Sanchit', 'COE', '2', '9.1'], \n",
    "         ['Aditya', 'IT', '2', '9.3'], \n",
    "         ['Sagar', 'SE', '1', '9.5'], \n",
    "         ['Prateek', 'MCE', '3', '7.8'], \n",
    "         ['Sahil', 'EP', '2', '9.1']]\n",
    "    csv_writer.writerows(rows)\n",
    "'''"
   ]
  },
  {
   "cell_type": "code",
   "execution_count": null,
   "metadata": {},
   "outputs": [],
   "source": [
    "#5.What do the keyword arguments delimiter and line terminator do?\n",
    "'''\n",
    " The delimiter is the character that appears between cells on a row. By default, the delimiter for a CSV file is a comma. \n",
    " The line terminator is the character that comes at the end of a row. By default, the line terminator is a newline. \n",
    " we can change characters to different values by using the delimiter and lineterminator keyword arguments with csv.writer().\n",
    "\n",
    "'''"
   ]
  },
  {
   "cell_type": "code",
   "execution_count": null,
   "metadata": {
    "collapsed": true
   },
   "outputs": [],
   "source": [
    "#6. What function takes a string of JSON data and returns a Python data structure?\n",
    "'''\n",
    "json.loads(stringOfJsonData)\n",
    "\n",
    "'''"
   ]
  },
  {
   "cell_type": "code",
   "execution_count": null,
   "metadata": {},
   "outputs": [],
   "source": [
    "#7. What function takes a Python data structure and returns a string of JSON data?\n",
    "'''\n",
    "json.dumps() function will translate a Python value into a string of JSON-formatted data\n",
    "\n",
    "'''"
   ]
  }
 ],
 "metadata": {
  "kernelspec": {
   "display_name": "Python 3",
   "language": "python",
   "name": "python3"
  },
  "language_info": {
   "codemirror_mode": {
    "name": "ipython",
    "version": 3
   },
   "file_extension": ".py",
   "mimetype": "text/x-python",
   "name": "python",
   "nbconvert_exporter": "python",
   "pygments_lexer": "ipython3",
   "version": "3.7.4"
  }
 },
 "nbformat": 4,
 "nbformat_minor": 2
}
