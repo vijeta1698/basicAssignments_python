{
 "cells": [
  {
   "cell_type": "code",
   "execution_count": null,
   "metadata": {},
   "outputs": [],
   "source": [
    "#1. What is the result of the code, and why?\n",
    "''' def func(a, b=6, c=8):\n",
    "print(a, b, c)\n",
    "func(1, 2)'''"
   ]
  },
  {
   "cell_type": "markdown",
   "metadata": {},
   "source": [
    "1 2 8 <br>\n",
    "func() is defind with a positional argument 'a' and two keyword arguments 'b' and 'c' with values 6 and 8 respectively and prints them.<br>\n",
    "but when the function is called, the value of 'b' has been changed to 2 and the compiler now will change the value of b from 6 to 2 and prints the output with a=1,b=2,c=8"
   ]
  },
  {
   "cell_type": "code",
   "execution_count": null,
   "metadata": {},
   "outputs": [],
   "source": [
    "#2. What is the result of this code, and why?\n",
    "'''\n",
    ">>> def func(a, b, c=5):\n",
    "print(a, b, c)\n",
    ">>> func(1, c=3, b=2)\n",
    "'''\n"
   ]
  },
  {
   "cell_type": "markdown",
   "metadata": {},
   "source": [
    "1 2 3 <br>\n",
    "calling he function func() which takes a,b,c as arguments, the value of c is changed from 5 to 3 so it will be overwritten and the value of a,b will be as per the passed values to the argument"
   ]
  },
  {
   "cell_type": "code",
   "execution_count": null,
   "metadata": {},
   "outputs": [],
   "source": [
    "#3. How about this code: what is its result, and why?\n",
    "'''\n",
    ">>> def func(a, *pargs):\n",
    "print(a, pargs)\n",
    ">>> func(1, 2, 3)\n",
    "'''"
   ]
  },
  {
   "cell_type": "markdown",
   "metadata": {},
   "source": [
    "1 2 3<br>\n",
    "because the function func() takes a and *pargs which is used to pass  a non key worded variable length argument list <br>\n",
    "so the value passed to a = 1 and the values in *pargs becomes 2,3"
   ]
  },
  {
   "cell_type": "code",
   "execution_count": null,
   "metadata": {},
   "outputs": [],
   "source": [
    "#4. What does this code print, and why?\n",
    "'''\n",
    ">>> def func(a, **kargs):\n",
    "print(a, kargs)\n",
    ">>> func(a=1, c=3, b=2)\n",
    "'''"
   ]
  },
  {
   "cell_type": "markdown",
   "metadata": {},
   "source": [
    "1 3 2 <br>\n",
    "because the function func() takes a and **kargs which is used to pass a key worded\n",
    "variable-lengthed argument list so when the function is called with these values the **kwargs is provided with \n",
    "c=3 and b=2"
   ]
  },
  {
   "cell_type": "code",
   "execution_count": null,
   "metadata": {},
   "outputs": [],
   "source": [
    "#5. What gets printed by this, and explain?\n",
    "'''\n",
    ">>> def func(a, b, c=8, d=5): print(a, b, c, d)\n",
    ">>> func(1, *(5, 6))\n",
    "'''"
   ]
  },
  {
   "cell_type": "markdown",
   "metadata": {},
   "source": [
    "1 5 6 5 <br>\n",
    "because the function is defind with arguments as a,b,c=8,d=5 \n",
    "but during the function call the values of b and c is changed to 5,6 and the \n",
    "value of d remains untouched so it will remain same and internally it will be  a=1,b=5,c=6 and d=7"
   ]
  },
  {
   "cell_type": "code",
   "execution_count": null,
   "metadata": {},
   "outputs": [],
   "source": [
    "#6. what is the result of this, and explain?\n",
    "'''\n",
    ">>> def func(a, b, c): a = 2; b[0] = 'x'; c['a'] = 'y'\n",
    ">>> l=1; m=[1]; n={'a':0}\n",
    ">>> func(l, m, n)\n",
    ">>> l, m, n\n",
    "'''"
   ]
  },
  {
   "cell_type": "markdown",
   "metadata": {},
   "source": [
    "2 ['x'] {'a':'y'} <br>\n",
    "the func() takes three arguments a,b,c whose values has been assigned inside the local scope. 'a' is a variable 'b' is a list and 'c' is a dictionary so when we call the function with l,m,n arguments it will not change the values of a , b , c and hence will give the above output <br>\n",
    "then l,m,n are printed which will give the following output because of their respective values:\n",
    "1 [1] {'a':0}"
   ]
  },
  {
   "cell_type": "code",
   "execution_count": null,
   "metadata": {},
   "outputs": [],
   "source": []
  }
 ],
 "metadata": {
  "kernelspec": {
   "display_name": "Python 3",
   "language": "python",
   "name": "python3"
  },
  "language_info": {
   "codemirror_mode": {
    "name": "ipython",
    "version": 3
   },
   "file_extension": ".py",
   "mimetype": "text/x-python",
   "name": "python",
   "nbconvert_exporter": "python",
   "pygments_lexer": "ipython3",
   "version": "3.7.4"
  }
 },
 "nbformat": 4,
 "nbformat_minor": 2
}
