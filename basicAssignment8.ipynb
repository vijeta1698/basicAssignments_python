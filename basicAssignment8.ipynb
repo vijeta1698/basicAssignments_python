{
 "cells": [
  {
   "cell_type": "code",
   "execution_count": null,
   "metadata": {},
   "outputs": [],
   "source": [
    "#1. Is the Python Standard Library included with PyInputPlus?\n",
    "'''\n",
    "PyInputPlus is not included in Python Standard Library.\n",
    "we need to install it to get all its functions.\n",
    "'''"
   ]
  },
  {
   "cell_type": "code",
   "execution_count": null,
   "metadata": {},
   "outputs": [],
   "source": [
    "#2. Why is PyInputPlus commonly imported with import pyinputplus as pypi?\n",
    "'''\n",
    "it is basically an alias given to pyinputplus module so we dont have to write the complete name itself instead we can\n",
    "write this alias to use this module whenever we want in the program\n",
    "'''"
   ]
  },
  {
   "cell_type": "code",
   "execution_count": null,
   "metadata": {},
   "outputs": [],
   "source": [
    "#3. How do you distinguish between inputInt() and inputFloat()?\n",
    "'''\n",
    "the inputInt() allows the user to enter a postitive or negative whole numbers and does not allow the user\n",
    "to enter any decimal or fraction number whereas inputFloat() allows the user to enter any number\n",
    "including fractions or decimals.\n",
    "\n",
    "'''"
   ]
  },
  {
   "cell_type": "code",
   "execution_count": null,
   "metadata": {},
   "outputs": [],
   "source": [
    "#4. Using PyInputPlus, how do you ensure that the user enters a whole number between 0 and 99?"
   ]
  },
  {
   "cell_type": "code",
   "execution_count": null,
   "metadata": {},
   "outputs": [
    {
     "name": "stdout",
     "output_type": "stream",
     "text": [
      "800\n",
      "Number must be at maximum 90.\n"
     ]
    }
   ],
   "source": [
    "import pyinputplus as pypi\n",
    "input1 = pypi.inputInt(min = 0 , max = 90)"
   ]
  },
  {
   "cell_type": "code",
   "execution_count": null,
   "metadata": {},
   "outputs": [],
   "source": [
    "#5. What is transferred to the keyword arguments allowRegexes and blockRegexes?\n",
    "'''\n",
    "We can set a list of regex strings to the allowRegexes parameter to the PyInputPlus functions.\n",
    "similarly to avoid certain expressions or inputs we can use blockRegexes.\n",
    "'''"
   ]
  },
  {
   "cell_type": "code",
   "execution_count": 1,
   "metadata": {},
   "outputs": [
    {
     "name": "stdout",
     "output_type": "stream",
     "text": [
      "What is your phone?vieta\n",
      "nothing to repeat at position 0\n",
      "What is your phone?2323232\n",
      "Your phone is 2323232\n"
     ]
    }
   ],
   "source": [
    "import pyinputplus as pypi\n",
    "phone = pypi.inputNum(prompt='What is your phone?',  allowRegexes=[r'\\w{6}'],blockRegexes=[r'*&'])\n",
    "print('Your phone is', phone)"
   ]
  },
  {
   "cell_type": "code",
   "execution_count": null,
   "metadata": {},
   "outputs": [],
   "source": [
    "#6.If a blank input is entered three times, what does inputStr(limit=3) do?\n",
    "'''\n",
    "if we set inputStr(limit=3) and if blank input is entered 3 times then for 3 times\n",
    "\"Blank values are not allowed\" will pop up and afterwards a RetryLimitException will be displayed\n",
    "'''"
   ]
  },
  {
   "cell_type": "code",
   "execution_count": 9,
   "metadata": {},
   "outputs": [
    {
     "name": "stdout",
     "output_type": "stream",
     "text": [
      "vijeta sharma\n"
     ]
    }
   ],
   "source": [
    "res = pypi.inputStr(limit = 3)"
   ]
  },
  {
   "cell_type": "code",
   "execution_count": null,
   "metadata": {},
   "outputs": [],
   "source": [
    "#7. If blank input is entered three times, what does inputStr(limit=3, default=\"hello\") do?\n",
    "'''\n",
    "doing this wont throw an RetryLimitException. \n",
    "'''"
   ]
  },
  {
   "cell_type": "code",
   "execution_count": 11,
   "metadata": {},
   "outputs": [
    {
     "name": "stdout",
     "output_type": "stream",
     "text": [
      "\n",
      "Blank values are not allowed.\n",
      "\n",
      "Blank values are not allowed.\n",
      "\n",
      "Blank values are not allowed.\n"
     ]
    }
   ],
   "source": [
    "res = pypi.inputStr(limit = 3,default= \"hello\")"
   ]
  },
  {
   "cell_type": "code",
   "execution_count": null,
   "metadata": {},
   "outputs": [],
   "source": []
  }
 ],
 "metadata": {
  "kernelspec": {
   "display_name": "Python 3",
   "language": "python",
   "name": "python3"
  },
  "language_info": {
   "codemirror_mode": {
    "name": "ipython",
    "version": 3
   },
   "file_extension": ".py",
   "mimetype": "text/x-python",
   "name": "python",
   "nbconvert_exporter": "python",
   "pygments_lexer": "ipython3",
   "version": "3.7.4"
  }
 },
 "nbformat": 4,
 "nbformat_minor": 2
}
