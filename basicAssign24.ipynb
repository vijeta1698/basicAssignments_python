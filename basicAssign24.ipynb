{
 "cells": [
  {
   "cell_type": "code",
   "execution_count": null,
   "metadata": {},
   "outputs": [],
   "source": [
    "#1. What is the relationship between def statements and lambda expressions ?"
   ]
  },
  {
   "cell_type": "markdown",
   "metadata": {},
   "source": [
    "both performs some task as per requirements. def decalres a regular function and lambda declares a anonymous functions to perform specific tasks"
   ]
  },
  {
   "cell_type": "code",
   "execution_count": 1,
   "metadata": {},
   "outputs": [],
   "source": [
    "#2. What is the benefit of lambda?"
   ]
  },
  {
   "cell_type": "markdown",
   "metadata": {},
   "source": [
    "Fewer Lines of Code <br>\n",
    "One of the benefits of using lambda expression is the reduced amount of code. <br>\n",
    "Sequential and Parallel Execution Support by passing behavior in methods.<br>\n",
    "Higher Efficiency (Utilizing Multicore CPU's)"
   ]
  },
  {
   "cell_type": "code",
   "execution_count": 2,
   "metadata": {},
   "outputs": [],
   "source": [
    "#3. Compare and contrast map, filter, and reduce."
   ]
  },
  {
   "cell_type": "markdown",
   "metadata": {},
   "source": [
    "map() applies the function it receives as an argument to each element in a sequence and returns the resulting sequence."
   ]
  },
  {
   "cell_type": "code",
   "execution_count": 1,
   "metadata": {},
   "outputs": [
    {
     "data": {
      "text/plain": [
       "['0', '1', '2', '3', '4', '5', '6', '7', '8', '9']"
      ]
     },
     "execution_count": 1,
     "metadata": {},
     "output_type": "execute_result"
    }
   ],
   "source": [
    "seq = list(range(10))\n",
    "list(map(str,seq))"
   ]
  },
  {
   "cell_type": "markdown",
   "metadata": {},
   "source": [
    "filter() takes a function called a predicate that returns “True” if an element passes the condition stated in the predicate, and “False” otherwise. The filter() function’s output consists of the elements of the original sequence that pass the predicate."
   ]
  },
  {
   "cell_type": "code",
   "execution_count": 18,
   "metadata": {},
   "outputs": [
    {
     "data": {
      "text/plain": [
       "['Bosnia and herzegovina', 'finland', 'Ireland']"
      ]
     },
     "execution_count": 18,
     "metadata": {},
     "output_type": "execute_result"
    }
   ],
   "source": [
    "countries = ['Bosnia and herzegovina','India','finland','Ireland','china']\n",
    "list(filter(lambda x : \"and\" in x ,countries))"
   ]
  },
  {
   "cell_type": "markdown",
   "metadata": {},
   "source": [
    "Python’s reduce() function doesn’t return a new sequence like map() and filter(). Instead, it returns a single value <br>\n",
    "reduce() applies the function to the elements of the sequence, from left to right, starting with the first two elements in the sequence. We combine the result of applying the function to the sequence’s first two elements with the third element and pass them to another call of the same function. This process repeats until we reach the end of the iterable and the iterable reduces to a single value. "
   ]
  },
  {
   "cell_type": "code",
   "execution_count": 23,
   "metadata": {},
   "outputs": [
    {
     "data": {
      "text/plain": [
       "945"
      ]
     },
     "execution_count": 23,
     "metadata": {},
     "output_type": "execute_result"
    }
   ],
   "source": [
    "from functools import reduce\n",
    "numm = [1,3,5,7,9]\n",
    "reduce(lambda x,y : x*y,numm)"
   ]
  },
  {
   "cell_type": "code",
   "execution_count": 3,
   "metadata": {},
   "outputs": [],
   "source": [
    "#4. What are function annotations, and how are they used?"
   ]
  },
  {
   "cell_type": "markdown",
   "metadata": {},
   "source": [
    "Function annotations are nothing more than a way of associating arbitrary Python expressions with various parts of a function at compile-time. <br>\n",
    "Function annotations, both for parameters and return values, are completely optional. <br>\n",
    "Annotations for parameters take the form of optional expressions that follow the parameter name:\n",
    "<center> def foo(a: expression, b: expression = 5):<br>\n",
    "...</center>\n",
    " to annotate the type of a function's return value. This is done like so:\n",
    "\n",
    "<center> def sum() -> expression: </center> <br>\n",
    "Python does not attach any meaning to these annotations. They take life when interpreted by third party libraries"
   ]
  },
  {
   "cell_type": "code",
   "execution_count": 4,
   "metadata": {},
   "outputs": [],
   "source": [
    "#5. What are recursive functions, and how are they used?"
   ]
  },
  {
   "cell_type": "markdown",
   "metadata": {},
   "source": [
    "In Python, we know that a function can call other functions. It is even possible for the function to call itself. These types of construct are termed as recursive functions.\n",
    "below is an example of recursive function factorial() :"
   ]
  },
  {
   "cell_type": "code",
   "execution_count": 5,
   "metadata": {},
   "outputs": [],
   "source": [
    "def factorial(x):\n",
    "    if x == 1: return 1\n",
    "    else:\n",
    "        return (x*factorial(x-1))"
   ]
  },
  {
   "cell_type": "code",
   "execution_count": 6,
   "metadata": {},
   "outputs": [
    {
     "data": {
      "text/plain": [
       "24"
      ]
     },
     "execution_count": 6,
     "metadata": {},
     "output_type": "execute_result"
    }
   ],
   "source": [
    "factorial"
   ]
  },
  {
   "cell_type": "code",
   "execution_count": 7,
   "metadata": {},
   "outputs": [],
   "source": [
    "#6. What are some general design guidelines for coding functions?"
   ]
  },
  {
   "cell_type": "markdown",
   "metadata": {},
   "source": [
    "Limited use of globals:\n",
    "These rules tell about which types of data that can be declared global and the data that can’t be.<br>\n",
    "The header format must contain below things that is being used in various companies:<br>\n",
    "Name of the module\n",
    "Date of module creation\n",
    "Author of the module etc.<br><br>\n",
    "Meaningful and understandable variables name helps anyone to understand the reason of using it.\n",
    "Local variables should be named using camel case lettering starting with small letter (e.g. localData) \n",
    "whereas Global variables names should start with a capital letter (e.g. GlobalData). Constant names should be formed using capital letters only (e.g. CONSDATA) <br><br>\n",
    "Proper indentation is very important to increase the readability of the code <br><br>\n",
    "Error return values and exception handling conventions:\n",
    "All functions that encountering an error condition should either return a 0 or 1 for simplifying the debugging.<br><br>\n",
    "Code should be well documented and\n",
    "Length of functions should not be very large"
   ]
  },
  {
   "cell_type": "code",
   "execution_count": null,
   "metadata": {},
   "outputs": [],
   "source": [
    "#7. Name three or more ways that functions can communicate results to a caller."
   ]
  },
  {
   "cell_type": "markdown",
   "metadata": {},
   "source": [
    "a function can be called by writhing <b> function_name() </b> with required parameters\n",
    "<br>\n",
    "we can also call a function using built-in function for ex: <br>\n",
    "str = function_name('xyz') <br>\n",
    "a function can also communicate its result through nested function.\n",
    "they can also be passed as arguments as below:"
   ]
  },
  {
   "cell_type": "code",
   "execution_count": 21,
   "metadata": {},
   "outputs": [],
   "source": [
    "def apply(L,f): #Applies function given by f to each element in list L\n",
    "    res = []\n",
    "    for i in range(len(L)):\n",
    "        res.append(f(L[i]))\n",
    "    return res"
   ]
  },
  {
   "cell_type": "code",
   "execution_count": 22,
   "metadata": {},
   "outputs": [
    {
     "name": "stdout",
     "output_type": "stream",
     "text": [
      "[1, 2, 3, 5]\n"
     ]
    }
   ],
   "source": [
    "L = [-1,2,-3,5]\n",
    "print(apply(L,abs)) #we can see that the built in function abs is applied to all elements of L and returned the new list"
   ]
  },
  {
   "cell_type": "markdown",
   "metadata": {},
   "source": [
    "Functions as elements of a list <br>\n",
    "Functions can be stored as elements of a list or any other data structure in Python"
   ]
  },
  {
   "cell_type": "code",
   "execution_count": 28,
   "metadata": {},
   "outputs": [],
   "source": [
    "def apply(L,x):\n",
    "    res = []\n",
    "    for i in L:\n",
    "        res.append(i(x))\n",
    "    return res"
   ]
  },
  {
   "cell_type": "code",
   "execution_count": 29,
   "metadata": {},
   "outputs": [
    {
     "name": "stdout",
     "output_type": "stream",
     "text": [
      "[2.3, -2]\n"
     ]
    }
   ],
   "source": [
    "list = [abs,int]\n",
    "print(apply(list,-2.3))"
   ]
  },
  {
   "cell_type": "code",
   "execution_count": null,
   "metadata": {},
   "outputs": [],
   "source": []
  }
 ],
 "metadata": {
  "kernelspec": {
   "display_name": "Python 3",
   "language": "python",
   "name": "python3"
  },
  "language_info": {
   "codemirror_mode": {
    "name": "ipython",
    "version": 3
   },
   "file_extension": ".py",
   "mimetype": "text/x-python",
   "name": "python",
   "nbconvert_exporter": "python",
   "pygments_lexer": "ipython3",
   "version": "3.7.4"
  }
 },
 "nbformat": 4,
 "nbformat_minor": 2
}
