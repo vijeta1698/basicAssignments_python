{
 "cells": [
  {
   "cell_type": "code",
   "execution_count": null,
   "metadata": {},
   "outputs": [],
   "source": [
    "#1. How do you distinguish between shutil.copy() and shutil.copytree()?\n",
    "'''\n",
    "shutil.copy() method in Python is used to copy the content of source file to destination file or directory. It also preserves the file’s permission mode \n",
    "but other metadata of the file like the file’s creation and modification times is not preserved. \n",
    "\n",
    "shutil.copy(src,dest)\n",
    "destination must be writable. If destination is a file and already exists then it will be replaced with the source file otherwise a new file will be created\n",
    "\n",
    "shutil.copy(src,dest)\n",
    "method recursively copies an entire directory tree rooted at source (src) to the destination directory. \n",
    "The destination directory, named by (dst) must not already exist.\n",
    "\n",
    "'''\n"
   ]
  },
  {
   "cell_type": "code",
   "execution_count": null,
   "metadata": {},
   "outputs": [],
   "source": [
    "#2. What function is used to rename files??\n",
    "'''\n",
    "os.rename() can be used to rename a file.\n",
    "for exqample if we want to rename a file called numpy.txt to numpy1.text\n",
    "then we can use this method as follows:\n",
    "import os\n",
    "os.rename(r'C:\\Panda\\numpy.txt', r'C:\\Panda\\numpy1.txt')\n",
    "\n",
    "'''"
   ]
  },
  {
   "cell_type": "code",
   "execution_count": null,
   "metadata": {},
   "outputs": [],
   "source": [
    "#3. What is the difference between the delete functions in the send2trash and shutil modules?\n",
    "'''\n",
    "The send2trash functions will move a file or folder to the recycle bin, while shutil functions will permanently delete files and folders.\n",
    "\n",
    "'''"
   ]
  },
  {
   "cell_type": "code",
   "execution_count": null,
   "metadata": {},
   "outputs": [],
   "source": [
    "#4.ZipFile objects have a close() method just like File objects’ close() method. What ZipFile method is equivalent to File objects’ open() method?\n",
    "'''\n",
    "we can use\n",
    "    with ZipFile(file_name , 'r') as zip:\n",
    "      zip.extractall()\n",
    "  \n",
    "where file_name argument takes a valid zip file name and 'r' opens it in a read mode and\n",
    "zip is an alias\n",
    "\n",
    "further zip.extractall() can be used to extract files\n",
    "\n",
    "'''"
   ]
  },
  {
   "cell_type": "code",
   "execution_count": 8,
   "metadata": {},
   "outputs": [],
   "source": [
    "from zipfile import ZipFile\n",
    "with ZipFile('C:/Users/Panda/Downloads/Copy files.zip') as zip:\n",
    "    #zip.printdir()\n",
    "    zip.extractall() #these files are extracted in the current directory\n",
    "    #data = zip.read('Assignment1.docx')\n",
    "    #for i in data:\n",
    "        #print(i)    #to read a specific file"
   ]
  },
  {
   "cell_type": "code",
   "execution_count": null,
   "metadata": {},
   "outputs": [],
   "source": [
    "#5. Create a programme that searches a folder tree for files with a certain file extension (such as .pdfor .jpg). Copy these files from whatever location they are in to a new folder.\n"
   ]
  },
  {
   "cell_type": "code",
   "execution_count": 20,
   "metadata": {},
   "outputs": [
    {
     "name": "stdout",
     "output_type": "stream",
     "text": [
      "file found : \n",
      "C://Users//Panda//Downloads/gss_eda.hdf5\n"
     ]
    }
   ],
   "source": [
    "#searching a .hdf5 file \n",
    "import os\n",
    "import shutil\n",
    "for root,dirs,files in os.walk('C://Users//Panda//Downloads'):\n",
    "    for i in files:\n",
    "        if i.endswith('.hdf5'):\n",
    "            print('file found : ')\n",
    "            print(root+'/'+str(i))"
   ]
  },
  {
   "cell_type": "code",
   "execution_count": 25,
   "metadata": {},
   "outputs": [
    {
     "data": {
      "text/plain": [
       "'C://Users//Panda//basicAssignments\\\\gss_eda.hdf5'"
      ]
     },
     "execution_count": 25,
     "metadata": {},
     "output_type": "execute_result"
    }
   ],
   "source": [
    "#copying the searched file to a desired location\n",
    "shutil.copy('C://Users//Panda//Downloads//gss_eda.hdf5','C://Users//Panda//basicAssignments')"
   ]
  },
  {
   "cell_type": "code",
   "execution_count": null,
   "metadata": {},
   "outputs": [],
   "source": []
  }
 ],
 "metadata": {
  "kernelspec": {
   "display_name": "Python 3",
   "language": "python",
   "name": "python3"
  },
  "language_info": {
   "codemirror_mode": {
    "name": "ipython",
    "version": 3
   },
   "file_extension": ".py",
   "mimetype": "text/x-python",
   "name": "python",
   "nbconvert_exporter": "python",
   "pygments_lexer": "ipython3",
   "version": "3.7.4"
  }
 },
 "nbformat": 4,
 "nbformat_minor": 2
}
