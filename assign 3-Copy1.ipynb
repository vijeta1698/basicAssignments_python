{
 "cells": [
  {
   "cell_type": "markdown",
   "metadata": {},
   "source": [
    "assignment 3"
   ]
  },
  {
   "cell_type": "code",
   "execution_count": null,
   "metadata": {},
   "outputs": [],
   "source": [
    "#1. Why are functions advantageous to have in your programs?\n",
    "'''\n",
    "the main advantage of using functions in a program is the code reusability. that is, the block of code containing \n",
    "certain operATIONS or methods can be reused again and again anywhere in the program.\n",
    "functions also increases modularity in a program and thus making the program more easy to understand.\n",
    "breaking a big code program into smaller functions makes it more readable\n",
    "\n",
    "'''"
   ]
  },
  {
   "cell_type": "code",
   "execution_count": null,
   "metadata": {},
   "outputs": [],
   "source": [
    "#2. When does the code in a function run: when it iss specified or when its called?\n",
    "'''\n",
    "the code inside a functions gets executed only when it is called anywhere in the program.\n",
    "\n",
    "'''"
   ]
  },
  {
   "cell_type": "code",
   "execution_count": null,
   "metadata": {},
   "outputs": [],
   "source": [
    "#3. What statement creates a function?\n",
    "'''\n",
    "def <function_name>(<argument1,..argument n>):\n",
    "    ..code\n",
    "    return[expression]\n",
    "example: def add(a,b):\n",
    "            return a+b\n",
    "'''"
   ]
  },
  {
   "cell_type": "code",
   "execution_count": null,
   "metadata": {},
   "outputs": [],
   "source": [
    "#4. What is the difference between a function and a function call?\n",
    "'''\n",
    "a function is basically a group of statement which performs a specific task and it can be used anywhere in a program\n",
    "for performing the intended tasks.\n",
    "a function declaration simply tells the compiler about the function name and the specified arguments (posiyional or keyword)\n",
    "a function call transfers the program control to the called function and the block of code inside the function gets executed.\n",
    "defining a function only includes naming a function and writing code for performiNG certain tasks. it does not make changes\n",
    "untill and unless a function is being actually called to perform those tasks.\n",
    "'''"
   ]
  },
  {
   "cell_type": "code",
   "execution_count": null,
   "metadata": {},
   "outputs": [],
   "source": [
    "#.5. How many global scopes are there in a Python program? How many local scopes?\n",
    "'''\n",
    "'''"
   ]
  }
 ],
 "metadata": {
  "kernelspec": {
   "display_name": "Python 3",
   "language": "python",
   "name": "python3"
  },
  "language_info": {
   "codemirror_mode": {
    "name": "ipython",
    "version": 3
   },
   "file_extension": ".py",
   "mimetype": "text/x-python",
   "name": "python",
   "nbconvert_exporter": "python",
   "pygments_lexer": "ipython3",
   "version": "3.7.4"
  }
 },
 "nbformat": 4,
 "nbformat_minor": 2
}
