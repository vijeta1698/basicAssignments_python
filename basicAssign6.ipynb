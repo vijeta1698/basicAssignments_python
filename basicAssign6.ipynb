{
 "cells": [
  {
   "cell_type": "code",
   "execution_count": null,
   "metadata": {},
   "outputs": [],
   "source": [
    "#1. What are escape characters, and how do you use them?\n",
    "'''\n",
    "Escape characters are the characters used to perform certain tasks and their usage in code directs the compiler to\n",
    "take a suitable action mapped to that character.\n",
    "example : \\n , \\t , \\r , \\b etc\n",
    "they can be used as follows:\n",
    "'''"
   ]
  },
  {
   "cell_type": "code",
   "execution_count": 4,
   "metadata": {},
   "outputs": [
    {
     "name": "stdout",
     "output_type": "stream",
     "text": [
      "Full stack\n",
      " Data science\t ineuron\n"
     ]
    }
   ],
   "source": [
    "strr = \"Full stack\\n Data science\\t ineuron\"\n",
    "print(strr)"
   ]
  },
  {
   "cell_type": "code",
   "execution_count": null,
   "metadata": {},
   "outputs": [],
   "source": [
    "#2. What do the escape characters n and t stand for?\n",
    "'''\n",
    "\\n stands for new line and \\t stands for tab\n",
    "\n",
    "'''\n"
   ]
  },
  {
   "cell_type": "code",
   "execution_count": 78,
   "metadata": {},
   "outputs": [
    {
     "data": {
      "text/plain": [
       "'https\\ngoogle.com'"
      ]
     },
     "execution_count": 78,
     "metadata": {},
     "output_type": "execute_result"
    }
   ],
   "source": [
    "#3.. What is the way to include backslash characters in a string?\n",
    "s = \"https\\ngoogle.com\"\n",
    "s"
   ]
  },
  {
   "cell_type": "code",
   "execution_count": null,
   "metadata": {},
   "outputs": [],
   "source": [
    "#4. The string \"Howl's Moving Castle\" is a correct value. Why isn't the single quote character in the word Howl's not escaped a problem\n",
    "'''\n",
    "the single quote is Howl's is fine because double quotes \" \" has been used to indicate beginning and end of the string\n",
    "'''"
   ]
  },
  {
   "cell_type": "code",
   "execution_count": 47,
   "metadata": {},
   "outputs": [
    {
     "name": "stdout",
     "output_type": "stream",
     "text": [
      " This is full stack data science class\n",
      "    myself xyz\n",
      "    please contact support@ineuron for details\n",
      "            \n"
     ]
    }
   ],
   "source": [
    "#5. How do you write a string of newlines if you don't want to use the n character?\n",
    "'''\n",
    "Multiline strings allows to use newlines in strings without the \\n escape character\n",
    "'''\n",
    "strn = \"\"\" This is full stack data science class\n",
    "    myself xyz\n",
    "    please contact support@ineuron for details\n",
    "            \"\"\"\n",
    "print(strn)"
   ]
  },
  {
   "cell_type": "code",
   "execution_count": null,
   "metadata": {},
   "outputs": [],
   "source": [
    "#6. What are the values of the given expressions?\n",
    "'Hello, world!'[1] : 'e'\n",
    "'Hello, world!'[0:5] : 'Hello'\n",
    "'Hello, world!'[:5] : 'Hello'\n",
    "'Hello, world!'[3:] : 'lo, world!'\n"
   ]
  },
  {
   "cell_type": "code",
   "execution_count": null,
   "metadata": {},
   "outputs": [],
   "source": [
    "#7. What are the values of the following expressions?\n",
    "'Hello'.upper()            : 'HELLO'\n",
    "'Hello'.upper().isupper()  : True\n",
    "'Hello'.upper().lower()    : False\n"
   ]
  },
  {
   "cell_type": "code",
   "execution_count": null,
   "metadata": {},
   "outputs": [],
   "source": [
    "#8. What are the values of the following expressions?\n",
    "'Remember, remember, the fifth of July.'.split() : ['Remember,', 'remember,', 'the', 'fifth', 'of', 'July.']\n",
    "'-'.join('There can only one.'.split()) : 'There-can-only-one.'\n"
   ]
  },
  {
   "cell_type": "code",
   "execution_count": 69,
   "metadata": {},
   "outputs": [
    {
     "name": "stdout",
     "output_type": "stream",
     "text": [
      "    heloo\n",
      "heloo    \n",
      "       heloo        \n"
     ]
    }
   ],
   "source": [
    "#9. What are the methods for right-justifying, left-justifying, and centering a string?\n",
    "'''\n",
    "right-justifying : rjust() is used to shift the specific string to the right side by given length as argument\n",
    "left-justifying : ljust() is used to shift the specific string to the left side by given length as argument\n",
    "centering : center() method is used to place string to the center by given length as argument.\n",
    "'''\n",
    "st = \"heloo\"\n",
    "print(st.rjust(9))\n",
    "print(st.ljust(9))\n",
    "print(st.center(20))"
   ]
  },
  {
   "cell_type": "code",
   "execution_count": 73,
   "metadata": {},
   "outputs": [
    {
     "data": {
      "text/plain": [
       "'hello'"
      ]
     },
     "execution_count": 73,
     "metadata": {},
     "output_type": "execute_result"
    }
   ],
   "source": [
    "#10. What is the best way to remove whitespace characters from the start or end?\n",
    "'''\n",
    "the lstrip() and rstrip() methods can be used to remove whitespace from start to end in the string\n",
    "'''\n",
    "st = \"    hello\"\n",
    "st.lstrip()\n",
    " \n",
    "st1 = \"hello        \"\n",
    "st1.rstrip()\n"
   ]
  },
  {
   "cell_type": "code",
   "execution_count": null,
   "metadata": {},
   "outputs": [],
   "source": []
  }
 ],
 "metadata": {
  "kernelspec": {
   "display_name": "Python 3",
   "language": "python",
   "name": "python3"
  },
  "language_info": {
   "codemirror_mode": {
    "name": "ipython",
    "version": 3
   },
   "file_extension": ".py",
   "mimetype": "text/x-python",
   "name": "python",
   "nbconvert_exporter": "python",
   "pygments_lexer": "ipython3",
   "version": "3.7.4"
  }
 },
 "nbformat": 4,
 "nbformat_minor": 2
}
